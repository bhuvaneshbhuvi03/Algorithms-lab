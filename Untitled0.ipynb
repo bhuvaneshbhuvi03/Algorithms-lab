{
  "nbformat": 4,
  "nbformat_minor": 0,
  "metadata": {
    "colab": {
      "provenance": [],
      "authorship_tag": "ABX9TyM4vH1GC1+SO4/uh7y/TgX8",
      "include_colab_link": true
    },
    "kernelspec": {
      "name": "python3",
      "display_name": "Python 3"
    },
    "language_info": {
      "name": "python"
    }
  },
  "cells": [
    {
      "cell_type": "markdown",
      "metadata": {
        "id": "view-in-github",
        "colab_type": "text"
      },
      "source": [
        "<a href=\"https://colab.research.google.com/github/bhuvaneshbhuvi03/Algorithms-lab/blob/main/Untitled0.ipynb\" target=\"_parent\"><img src=\"https://colab.research.google.com/assets/colab-badge.svg\" alt=\"Open In Colab\"/></a>"
      ]
    },
    {
      "cell_type": "code",
      "execution_count": 14,
      "metadata": {
        "colab": {
          "base_uri": "https://localhost:8080/"
        },
        "id": "gr3W0jji2qBb",
        "outputId": "8874c4eb-c609-464a-b24a-6d408b88e946"
      },
      "outputs": [
        {
          "output_type": "stream",
          "name": "stdout",
          "text": [
            "Element is present at index 3\n"
          ]
        }
      ],
      "source": [
        "\n",
        "def binarySearch(arr, low, high, x):\n",
        "\n",
        "    while low <= high:\n",
        "\n",
        "        mid = low + (high - low) // 2\n",
        "\n",
        "        # Check if x is present at mid\n",
        "        if arr[mid] == x:\n",
        "            return mid\n",
        "\n",
        "        # If x is greater, ignore left half\n",
        "        elif arr[mid] < x:\n",
        "            low = mid + 1\n",
        "\n",
        "        # If x is smaller, ignore right half\n",
        "        else:\n",
        "            high = mid - 1\n",
        "    return -1\n",
        "\n",
        "\n",
        "if __name__ == '__main__':\n",
        "    arr = [2, 3, 4, 10, 40]\n",
        "    x = 10\n",
        "    result = binarySearch(arr, 0, len(arr)-1, x)\n",
        "    if result != -1:\n",
        "        print(\"Element is present at index\", result)\n",
        "    else:\n",
        "        print(\"Element is not present in array\")\n"
      ]
    }
  ]
}